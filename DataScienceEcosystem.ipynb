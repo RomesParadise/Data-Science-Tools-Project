{
 "cells": [
  {
   "cell_type": "markdown",
   "id": "67dc554d-bacb-4260-8e7f-a4950f5dd9fc",
   "metadata": {},
   "source": [
    "# Data Science Tools and Ecosystem"
   ]
  },
  {
   "cell_type": "markdown",
   "id": "b9b21216-3571-45ef-9d27-6125e9fab101",
   "metadata": {},
   "source": [
    "In this notebook, Data Science Tools and Ecosystem are summarized."
   ]
  },
  {
   "cell_type": "markdown",
   "id": "8615a643-ca2c-40d3-bfa1-f9fbe2551365",
   "metadata": {},
   "source": [
    "**Objectives:**\n",
    "\n",
    "* List Popular Languages for Data Science.\n",
    "* List Commonly Used Libraries by Data Scientists.\n",
    "* List Development Environment Data Science Tools.\n",
    "* Examples of evaluating Arithmetic Expressions in Python.\n"
   ]
  },
  {
   "cell_type": "markdown",
   "id": "73c5bc49-69d1-4caa-9fab-a7c2984800bf",
   "metadata": {},
   "source": [
    "Some of the popular languages that Data Scientists use are:\n",
    "\n",
    "1. Python\n",
    "2. R\n",
    "3. Scala\n",
    "4. Java\n",
    "5. C++\n",
    "6. SQL"
   ]
  },
  {
   "cell_type": "markdown",
   "id": "79cbc0d7-74a7-4318-8e18-3007e84424e0",
   "metadata": {
    "tags": []
   },
   "source": [
    "Some of the commonly used libraries used by Data Scientists include:\n",
    "\n",
    "1. Pandas\n",
    "2. NumPy\n",
    "3. Matplotlib\n",
    "4. SciPy\n",
    "5. Seaborn\n",
    "6. SciKit-Learn"
   ]
  },
  {
   "cell_type": "markdown",
   "id": "eadbd013-62e0-4af9-99a4-910eda11e1bd",
   "metadata": {},
   "source": [
    "|Data Science Tools|\n",
    "|------------------|\n",
    "| Jupyter |\n",
    "| RStudio |\n",
    "| Apache Zeppelin |"
   ]
  },
  {
   "cell_type": "markdown",
   "id": "cdc770ee-097d-4bd7-9d78-b10c4213b83c",
   "metadata": {},
   "source": [
    "### Below are a few examples of evaluating arithmetic expressions in Python"
   ]
  },
  {
   "cell_type": "markdown",
   "id": "03c16473-2327-449d-8ea6-684f1b492b7d",
   "metadata": {},
   "source": [
    "This a simple arithmetic expression to mutiply then add integers"
   ]
  },
  {
   "cell_type": "code",
   "execution_count": 3,
   "id": "682974c2-aa8c-4078-a1fa-c7b99db42cd5",
   "metadata": {
    "tags": []
   },
   "outputs": [
    {
     "data": {
      "text/plain": [
       "17"
      ]
     },
     "execution_count": 3,
     "metadata": {},
     "output_type": "execute_result"
    }
   ],
   "source": [
    "(3*4)+5"
   ]
  },
  {
   "cell_type": "markdown",
   "id": "c1e455d2-9571-4115-bcd0-886f3235800b",
   "metadata": {},
   "source": [
    "This will convert 200 minutes to hours by dividing by 60."
   ]
  },
  {
   "cell_type": "code",
   "execution_count": 9,
   "id": "ed92e32c-6423-4243-b02f-301dc03a60f5",
   "metadata": {
    "tags": []
   },
   "outputs": [
    {
     "name": "stdout",
     "output_type": "stream",
     "text": [
      "3.3333333333333335 hours\n"
     ]
    }
   ],
   "source": [
    "minutes = 200\n",
    "hours = minutes/60\n",
    "print(f\"{hours} hours\")"
   ]
  },
  {
   "cell_type": "code",
   "execution_count": null,
   "id": "1f407ae3-cf87-4694-9d6f-c1e050036ddc",
   "metadata": {},
   "outputs": [],
   "source": []
  },
  {
   "cell_type": "markdown",
   "id": "999f7990-a935-4298-9053-f4261a493445",
   "metadata": {
    "tags": []
   },
   "source": [
    "## Author\n",
    "Rahul G. Bolakani"
   ]
  },
  {
   "cell_type": "code",
   "execution_count": null,
   "id": "c5cd4881-d669-475e-8dea-e496bdad947b",
   "metadata": {},
   "outputs": [],
   "source": []
  }
 ],
 "metadata": {
  "kernelspec": {
   "display_name": "Python",
   "language": "python",
   "name": "conda-env-python-py"
  },
  "language_info": {
   "codemirror_mode": {
    "name": "ipython",
    "version": 3
   },
   "file_extension": ".py",
   "mimetype": "text/x-python",
   "name": "python",
   "nbconvert_exporter": "python",
   "pygments_lexer": "ipython3",
   "version": "3.7.12"
  }
 },
 "nbformat": 4,
 "nbformat_minor": 5
}
